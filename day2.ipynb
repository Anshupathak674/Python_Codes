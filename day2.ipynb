{
  "cells": [
    {
      "cell_type": "code",
      "execution_count": 1,
      "metadata": {
        "trusted": true
      },
      "outputs": [
        {
          "name": "stdout",
          "output_type": "stream",
          "text": [
            "ieee.org\n"
          ]
        }
      ],
      "source": [
        "#extract only the domain name.\n",
        "#“From chetanahegde@ieee.org Wed Feb 21 09:14:16 2018 ”\n",
        "\n",
        "\n",
        "\n",
        "# @\n",
        "# white space\n",
        "# b/w @ & white space - required\n",
        "\n",
        "\n",
        "\n",
        "statement = \"From chetanahegde@ieee.org Wed Feb 21 09:14:16 2018 \"\n",
        "find_at = statement.find('@')\n",
        "#print(find_at)\n",
        "find_ws = statement.find(' ', find_at)\n",
        "#print(find_ws)\n",
        "domain = statement[find_at+1:find_ws]\n",
        "print(domain)"
      ]
    },
    {
      "cell_type": "code",
      "execution_count": 2,
      "metadata": {
        "trusted": true
      },
      "outputs": [
        {
          "name": "stdout",
          "output_type": "stream",
          "text": [
            "['anshu', 'kumar', 'pathak']\n"
          ]
        }
      ],
      "source": [
        "thislist = [\"anshu\", \"kumar\", \"pathak\"]\n",
        "mylist = thislist.copy()\n",
        "print(mylist)"
      ]
    },
    {
      "cell_type": "code",
      "execution_count": 7,
      "metadata": {
        "trusted": true
      },
      "outputs": [
        {
          "name": "stdout",
          "output_type": "stream",
          "text": [
            "[]\n"
          ]
        }
      ],
      "source": [
        "persons = ['anshu', 'kumar', 'pathak']\n",
        "persons.clear()\n",
        "print(persons)"
      ]
    },
    {
      "cell_type": "code",
      "execution_count": 6,
      "metadata": {
        "trusted": true
      },
      "outputs": [
        {
          "name": "stdout",
          "output_type": "stream",
          "text": [
            "2\n"
          ]
        }
      ],
      "source": [
        "persons = ['anshu', 'kumar', 'pathak', 'pathak', 'anshu']\n",
        "x = persons.count(\"pathak\")\n",
        "print(x)"
      ]
    },
    {
      "cell_type": "code",
      "execution_count": 10,
      "metadata": {
        "trusted": true
      },
      "outputs": [
        {
          "name": "stdout",
          "output_type": "stream",
          "text": [
            "['anshu', 'kumar', 'hello', 'pathak', 'pathak', 'anshu']\n"
          ]
        }
      ],
      "source": [
        "persons = ['anshu', 'kumar', 'pathak', 'pathak', 'anshu']\n",
        "persons.insert(2,'hello')\n",
        "print(persons)"
      ]
    },
    {
      "cell_type": "code",
      "execution_count": 12,
      "metadata": {
        "trusted": true
      },
      "outputs": [
        {
          "name": "stdout",
          "output_type": "stream",
          "text": [
            "21\n",
            "6\n",
            "6\n",
            "1\n"
          ]
        }
      ],
      "source": [
        "l = [1,2,3,4,5,6];\n",
        "print(sum(l))\n",
        "print(len(l))\n",
        "print(max(l))\n",
        "print(min(l))"
      ]
    },
    {
      "cell_type": "code",
      "execution_count": 13,
      "metadata": {
        "trusted": true
      },
      "outputs": [
        {
          "name": "stdout",
          "output_type": "stream",
          "text": [
            "['A', 'N', 'S', 'H', 'U']\n"
          ]
        }
      ],
      "source": [
        "val = \"ANSHU\";\n",
        "stl = list(val)\n",
        "print(stl)"
      ]
    },
    {
      "cell_type": "code",
      "execution_count": 15,
      "metadata": {
        "trusted": true
      },
      "outputs": [
        {
          "name": "stdout",
          "output_type": "stream",
          "text": [
            "['Anshu', 'Pathak']\n",
            "Anshu Pathak\n"
          ]
        }
      ],
      "source": [
        "name = \"Anshu Pathak\"\n",
        "ls = name.split()\n",
        "print(ls)\n",
        "fname = ls[0]\n",
        "lname = ls[1]\n",
        "print(fname,lname)"
      ]
    },
    {
      "cell_type": "code",
      "execution_count": 25,
      "metadata": {
        "trusted": true
      },
      "outputs": [
        {
          "name": "stdout",
          "output_type": "stream",
          "text": [
            "John#Peter#Vicky\n"
          ]
        }
      ],
      "source": [
        "myTuple = (\"John\", \"Peter\", \"Vicky\")\n",
        "\n",
        "x = \"#\".join(myTuple)\n",
        "\n",
        "print(x)"
      ]
    },
    {
      "cell_type": "code",
      "execution_count": 28,
      "metadata": {
        "trusted": true
      },
      "outputs": [
        {
          "data": {
            "text/plain": [
              "'ans-kum-pat-jhj'"
            ]
          },
          "execution_count": 28,
          "metadata": {},
          "output_type": "execute_result"
        }
      ],
      "source": [
        "\"-\".join(['ans','kum','pat','jhj'])"
      ]
    },
    {
      "cell_type": "code",
      "execution_count": null,
      "metadata": {
        "trusted": true
      },
      "outputs": [
        {
          "data": {
            "text/plain": [
              "'ans kum pat jhj'"
            ]
          },
          "execution_count": 29,
          "metadata": {},
          "output_type": "execute_result"
        }
      ],
      "source": [
        "\"-\".join([\"ans kum pat jhj\"])"
      ]
    },
    {
      "cell_type": "code",
      "execution_count": 30,
      "metadata": {
        "trusted": true
      },
      "outputs": [
        {
          "data": {
            "text/plain": [
              "'anskumpatjhj'"
            ]
          },
          "execution_count": 30,
          "metadata": {},
          "output_type": "execute_result"
        }
      ],
      "source": [
        "\"-\".join([\"anskumpatjhj\"])"
      ]
    },
    {
      "cell_type": "code",
      "execution_count": 26,
      "metadata": {
        "trusted": true
      },
      "outputs": [
        {
          "name": "stdout",
          "output_type": "stream",
          "text": [
            "False\n",
            "False\n",
            "False\n",
            "True\n"
          ]
        }
      ],
      "source": [
        "a = [1,2,3]\n",
        "b = [2,3,4]\n",
        "c = [1,2,3]\n",
        "\n",
        "print(a is b) #Identical\n",
        "print(a is c)\n",
        "print(a == b)\n",
        "print(a == c) #Equivalence"
      ]
    },
    {
      "cell_type": "code",
      "execution_count": 27,
      "metadata": {
        "trusted": true
      },
      "outputs": [
        {
          "name": "stdout",
          "output_type": "stream",
          "text": [
            "[2, 3]\n"
          ]
        }
      ],
      "source": [
        "def del_fun(a):\n",
        "    del a[0]\n",
        "lis = [1,2,3]\n",
        "del_fun(lis)\n",
        "print(lis)"
      ]
    },
    {
      "cell_type": "code",
      "execution_count": 38,
      "metadata": {
        "trusted": true
      },
      "outputs": [],
      "source": [
        "f = open(\"example1.txt\", \"a\")\n",
        "for i in range (5):\n",
        "    f.write(\"I am line \" + str(i))\n",
        "f.close()"
      ]
    },
    {
      "cell_type": "code",
      "execution_count": 39,
      "metadata": {
        "trusted": true
      },
      "outputs": [
        {
          "name": "stdout",
          "output_type": "stream",
          "text": [
            "I am line 0I am line 1I am line 2I am line 3I am line 4I am line 0I am line 1I am line 2I am line 3I am line 4\n",
            "\n",
            "\n",
            "\n",
            "\n",
            "\n",
            "\n",
            "\n",
            "\n",
            "\n",
            "\n",
            "\n",
            "\n",
            "\n",
            "\n"
          ]
        }
      ],
      "source": [
        "f = open(\"example1.txt\", \"r\")\n",
        "for i in range (5):\n",
        "    print(f.readline())\n",
        "    print(\"\\n\")"
      ]
    },
    {
      "cell_type": "code",
      "execution_count": 45,
      "metadata": {
        "trusted": true
      },
      "outputs": [
        {
          "name": "stdout",
          "output_type": "stream",
          "text": [
            "{'empid': 1, 'name': 'Anshu', 'location': 'Bangalore'}\n"
          ]
        }
      ],
      "source": [
        "#Dictionary\n",
        "d = {}\n",
        "d[\"empid\"] = 1\n",
        "d[\"name\"] = \"Anshu\"\n",
        "d[\"location\"] = \"Bangalore\"\n",
        "\n",
        "print(d)"
      ]
    },
    {
      "cell_type": "code",
      "execution_count": 51,
      "metadata": {
        "trusted": true
      },
      "outputs": [
        {
          "name": "stdout",
          "output_type": "stream",
          "text": [
            "{'Empid': 2, 'Name': 'AKP', 'Location': 'BLR'}\n",
            "False\n",
            "True\n",
            "[('Empid', 2), ('Name', 'AKP'), ('Location', 'BLR')]\n",
            "[('Empid', 2), ('Location', 'BLR'), ('Name', 'AKP')]\n",
            "Empid 2\n",
            "Location BLR\n",
            "Name AKP\n"
          ]
        }
      ],
      "source": [
        "d = {\"Empid\" : 2, \"Name\":\"AKP\", \"Location\":\"BLR\"}\n",
        "print(d)\n",
        "print('kdjk' in d)\n",
        "print(\"AKP\" in d.values())\n",
        "\n",
        "atp = list(d.items())\n",
        "print(atp)\n",
        "\n",
        "atp.sort() # sorts on the basis of key\n",
        "print(atp)\n",
        "\n",
        "for items in atp:\n",
        "    print(items[0],items[1])"
      ]
    },
    {
      "cell_type": "code",
      "execution_count": 52,
      "metadata": {
        "trusted": true
      },
      "outputs": [
        {
          "name": "stdout",
          "output_type": "stream",
          "text": [
            "<class 'dict'>\n",
            "<class 'set'>\n",
            "pathak\n",
            "anshu\n"
          ]
        }
      ],
      "source": [
        "#sets\n",
        "s ={}\n",
        "print(type(s))\n",
        "s = {'anshu', 'pathak'}\n",
        "print(type(s))\n",
        "\n",
        "for i in s:\n",
        "    print(i)"
      ]
    },
    {
      "cell_type": "code",
      "execution_count": null,
      "metadata": {},
      "outputs": [],
      "source": []
    },
    {
      "cell_type": "code",
      "execution_count": 3,
      "metadata": {
        "trusted": true
      },
      "outputs": [
        {
          "name": "stdout",
          "output_type": "stream",
          "text": [
            "Enter Y or N:  Y\n"
          ]
        }
      ],
      "source": [
        "class Employee:\n",
        "\n",
        "    def __init__(self, name, eid, dept, base_sal, hra): #Properties of a class - this in java - self in python\n",
        "        self.name = name\n",
        "        self.eid = eid\n",
        "        self.dept = dept\n",
        "        self.base_sal = base_sal\n",
        "        self.hra = hra\n",
        "\n",
        "    def sal_cal(self):\n",
        "        total_sal = 0\n",
        "        total_sal += self.base_sal + self.hra;\n",
        "        print(\"My Name is {}, My eid is {}, My dept is {}, My total salry is {}\".format(self.name, self.eid, self.dept, total_sal))\n",
        "        \n",
        "while 1:\n",
        "    req = str(input(\"Enter Y or N: \"))\n",
        "    if(req==\"Y\"):\n",
        "        name = str(input(\"Enter name: \"))\n",
        "        eid = str(input(\"Enter eid: \"))\n",
        "        dept = str(input(\"Enter dept: \"))\n",
        "        base_sal = str(input(\"Enter base_sal: \"))\n",
        "        hra = str(input(\"Enter hra: \"))\n",
        "        emp=Employee(name, eid, dept, int(base_sal), int(hra))\n",
        "        emp.sal_cal()\n",
        "    else:\n",
        "        break\n"
      ]
    },
    {
      "cell_type": "code",
      "execution_count": null,
      "metadata": {},
      "outputs": [],
      "source": [
        "hours = int(input(\"Enter the number of hours worked:\"))\n",
        "hourly_rate = int(input(\"Enter the hourly rate: \"))\n",
        "if(hours<=40):\n",
        "    total = hours*hourly_rate\n",
        "else:\n",
        "    total=0\n",
        "    total+=(40*hourly_rate)\n",
        "    total+=((hours-40)*hourly_rate*1.5)\n",
        "print(total)"
      ]
    },
    {
      "cell_type": "code",
      "execution_count": null,
      "metadata": {},
      "outputs": [],
      "source": [
        "try:\n",
        "    hours = int(input(\"Enter the number of hours worked:\"))\n",
        "    hourly_rate = int(input(\"Enter the hourly rate: \"))\n",
        "    if(hours<=40):\n",
        "        total = hours*hourly_rate\n",
        "    else:\n",
        "        total=0\n",
        "        total+=(40*hourly_rate)\n",
        "        total+=((hours-40)*hourly_rate*1.5)\n",
        "    print(total)\n",
        "except:\n",
        "    print(\"Enter numeric inputs.\")"
      ]
    },
    {
      "cell_type": "code",
      "execution_count": null,
      "metadata": {},
      "outputs": [],
      "source": [
        "num = int(input(\"Enter number : \"))\n",
        "\n",
        "temp = num\n",
        "product = 1\n",
        "\n",
        "while(temp != 0):\n",
        "    product = product * (temp % 10)\n",
        "    temp = int(temp / 10)\n",
        "\n",
        "print(\"Product of all digits is\" + product)"
      ]
    }
  ],
  "metadata": {
    "kernelspec": {
      "display_name": "Python (Pyodide)",
      "language": "python",
      "name": "python"
    },
    "language_info": {
      "codemirror_mode": {
        "name": "python",
        "version": 3
      },
      "file_extension": ".py",
      "mimetype": "text/x-python",
      "name": "python",
      "nbconvert_exporter": "python",
      "pygments_lexer": "ipython3",
      "version": "3.8"
    }
  },
  "nbformat": 4,
  "nbformat_minor": 4
}
