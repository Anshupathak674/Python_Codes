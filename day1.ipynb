{
  "cells": [
    {
      "cell_type": "code",
      "execution_count": 2,
      "metadata": {
        "trusted": true
      },
      "outputs": [
        {
          "name": "stdout",
          "output_type": "stream",
          "text": [
            "Hello World\n"
          ]
        }
      ],
      "source": [
        "print(\"Hello World\")"
      ]
    },
    {
      "cell_type": "code",
      "execution_count": 3,
      "metadata": {
        "trusted": true
      },
      "outputs": [
        {
          "name": "stdout",
          "output_type": "stream",
          "text": [
            "3.10.2 (main, Aug  9 2022, 13:42:49) [Clang 15.0.0 (https://github.com/llvm/llvm-project 7effcbda49ba32991b8955821b8f\n"
          ]
        }
      ],
      "source": [
        "import sys\n",
        "print(sys.version)"
      ]
    },
    {
      "cell_type": "code",
      "execution_count": 4,
      "metadata": {
        "trusted": true
      },
      "outputs": [
        {
          "ename": "<class 'AttributeError'>",
          "evalue": "'Interpreter' object has no attribute 'ask_exit'",
          "output_type": "error",
          "traceback": [
            "\u001b[0;31m---------------------------------------------------------------------------\u001b[0m",
            "\u001b[0;31mAttributeError\u001b[0m                            Traceback (most recent call last)",
            "Cell \u001b[0;32mIn [4], line 1\u001b[0m\n\u001b[0;32m----> 1\u001b[0m \u001b[43mquit\u001b[49m\u001b[43m(\u001b[49m\u001b[43m)\u001b[49m\n",
            "File \u001b[0;32m/lib/python3.10/site-packages/IPython/core/autocall.py:57\u001b[0m, in \u001b[0;36mExitAutocall.__call__\u001b[0;34m(self)\u001b[0m\n\u001b[1;32m     56\u001b[0m \u001b[38;5;28;01mdef\u001b[39;00m \u001b[38;5;21m__call__\u001b[39m(\u001b[38;5;28mself\u001b[39m):\n\u001b[0;32m---> 57\u001b[0m     \u001b[38;5;28;43mself\u001b[39;49m\u001b[38;5;241;43m.\u001b[39;49m\u001b[43m_ip\u001b[49m\u001b[38;5;241;43m.\u001b[39;49m\u001b[43mask_exit\u001b[49m()\n",
            "\u001b[0;31mAttributeError\u001b[0m: 'Interpreter' object has no attribute 'ask_exit'"
          ]
        }
      ],
      "source": [
        "quit()"
      ]
    },
    {
      "cell_type": "code",
      "execution_count": 5,
      "metadata": {
        "trusted": true
      },
      "outputs": [
        {
          "name": "stdout",
          "output_type": "stream",
          "text": [
            "100Hello\n"
          ]
        }
      ],
      "source": [
        "a = 100\n",
        "d = \"Hello\"\n",
        "print(str(a)+d)"
      ]
    },
    {
      "cell_type": "code",
      "execution_count": 6,
      "metadata": {
        "trusted": true
      },
      "outputs": [
        {
          "name": "stdout",
          "output_type": "stream",
          "text": [
            "Value 100\n"
          ]
        }
      ],
      "source": [
        "print(\"Value \" + str(a))"
      ]
    },
    {
      "cell_type": "code",
      "execution_count": 7,
      "metadata": {
        "trusted": true
      },
      "outputs": [
        {
          "ename": "<class 'SyntaxError'>",
          "evalue": "invalid syntax (<ipython-input-7-f5e11cc685c2>, line 1)",
          "output_type": "error",
          "traceback": [
            "\u001b[0;36m  Cell \u001b[0;32mIn [7], line 1\u001b[0;36m\u001b[0m\n\u001b[0;31m    $fors = 10;\u001b[0m\n\u001b[0m    ^\u001b[0m\n\u001b[0;31mSyntaxError\u001b[0m\u001b[0;31m:\u001b[0m invalid syntax\n"
          ]
        }
      ],
      "source": [
        "$fors = 10;\n",
        "print($fors)"
      ]
    },
    {
      "cell_type": "code",
      "execution_count": 8,
      "metadata": {
        "trusted": true
      },
      "outputs": [
        {
          "ename": "<class 'SyntaxError'>",
          "evalue": "invalid syntax (<ipython-input-8-4972cea8b4e4>, line 1)",
          "output_type": "error",
          "traceback": [
            "\u001b[0;36m  Cell \u001b[0;32mIn [8], line 1\u001b[0;36m\u001b[0m\n\u001b[0;31m    fors$ = 10;\u001b[0m\n\u001b[0m        ^\u001b[0m\n\u001b[0;31mSyntaxError\u001b[0m\u001b[0;31m:\u001b[0m invalid syntax\n"
          ]
        }
      ],
      "source": [
        "fors$ = 10;\n",
        "print(fors$)"
      ]
    },
    {
      "cell_type": "code",
      "execution_count": 9,
      "metadata": {
        "trusted": true
      },
      "outputs": [
        {
          "name": "stdout",
          "output_type": "stream",
          "text": [
            "110\n",
            "105\n",
            "21.0\n",
            "22.0\n",
            "0\n",
            "25\n",
            "36\n"
          ]
        }
      ],
      "source": [
        "#Arithmetic Operators:\n",
        "# Addition - +\n",
        "# Subtraction - -\n",
        "# Multiplication - *\n",
        "# Division - /\n",
        "# Modulus - % - reminder\n",
        "# Expoent/power of - **\n",
        "# Floor Division - // - return int of division\n",
        "\n",
        "\n",
        "\n",
        "a = 100 + 10\n",
        "print(a)\n",
        "b = a - 5\n",
        "print(b)\n",
        "c = b * 0.2\n",
        "print(c)\n",
        "d = a / 5\n",
        "print(d)\n",
        "e = a % 5\n",
        "print(e)\n",
        "f = 5 ** 2\n",
        "print(f)\n",
        "g = a // 3\n",
        "print(g)"
      ]
    },
    {
      "cell_type": "code",
      "execution_count": 10,
      "metadata": {
        "trusted": true
      },
      "outputs": [
        {
          "name": "stdout",
          "output_type": "stream",
          "text": [
            "False\n",
            "True\n",
            "False\n",
            "True\n",
            "False\n",
            "True\n"
          ]
        }
      ],
      "source": [
        "#Relational - returns True or False\n",
        "# Greater than - >\n",
        "#Lesser Than - <\n",
        "# Greater than or Equals to - >=\n",
        "# Lesser Than or Equals to - <=\n",
        "# Equals - ==\n",
        "# Not Equals - !=\n",
        "\n",
        "a = 1\n",
        "b = 2\n",
        "\n",
        "c = a > b\n",
        "print(c)\n",
        "c = a < b\n",
        "print(c)\n",
        "c = a >= b\n",
        "print(c)\n",
        "c = a <= b\n",
        "print(c)\n",
        "c = a == b\n",
        "print(c)\n",
        "c = a != b\n",
        "print(c)\n",
        "\n"
      ]
    },
    {
      "cell_type": "code",
      "execution_count": 11,
      "metadata": {
        "trusted": true
      },
      "outputs": [
        {
          "name": "stdout",
          "output_type": "stream",
          "text": [
            "1\n",
            "Hi\n",
            "10\n"
          ]
        }
      ],
      "source": [
        "a, b, c, = 1, \"Hi\", 10\n",
        "print(a)\n",
        "print(b)\n",
        "print(c)"
      ]
    },
    {
      "cell_type": "code",
      "execution_count": null,
      "metadata": {},
      "outputs": [],
      "source": [
        "# Addition of 2 numbers\n",
        "a = 100\n",
        "b = 50\n",
        "c = a + b\n",
        "\n",
        "\n",
        "\n",
        "print(\"Addition of a:\"+str(a)+\" and b:\"+str(b)+\" is \"+str(c))"
      ]
    },
    {
      "cell_type": "code",
      "execution_count": null,
      "metadata": {},
      "outputs": [],
      "source": [
        "# Addition of 2 numbers with user input - input()\n",
        "\n",
        "a = int(input(\"Enter the value of a:\")) #100\n",
        "\n",
        "b = int(input(\"Enter the value of b:\")) #50\n",
        "\n",
        "\n",
        "\n",
        "c = a + b\n",
        "\n",
        "\n",
        "\n",
        "print(\"Addition of a:\"+str(a)+\" and b:\"+str(b)+\" is \"+str(c))"
      ]
    },
    {
      "cell_type": "code",
      "execution_count": null,
      "metadata": {},
      "outputs": [],
      "source": [
        "#Conditions using if\n",
        "#finding odd or even\n",
        "\n",
        "a = 2829\n",
        "\n",
        "if a%2 == 0:    print(\"a: \"+str(a)+\" is even\")\n",
        "else:    print(\"a: \"+str(a)+\" is odd\")\n",
        "\n",
        "#Conditions using if\n",
        "#finding odd or even\n",
        "\n",
        "a = int(input(\"Enter the value of a: \"))\n",
        "\n",
        "if a%2 == 0:\n",
        "    print(\"a: \"+str(a)+\" is even\")\n",
        "else:\n",
        "    print(\"a: \"+str(a)+\" is odd\")\n",
        "\n"
      ]
    },
    {
      "cell_type": "code",
      "execution_count": 12,
      "metadata": {
        "trusted": true
      },
      "outputs": [
        {
          "ename": "<class 'TypeError'>",
          "evalue": "int() argument must be a string, a bytes-like object or a real number, not 'Future'",
          "output_type": "error",
          "traceback": [
            "\u001b[0;31m---------------------------------------------------------------------------\u001b[0m",
            "\u001b[0;31mTypeError\u001b[0m                                 Traceback (most recent call last)",
            "Cell \u001b[0;32mIn [12], line 14\u001b[0m\n\u001b[1;32m      1\u001b[0m \u001b[38;5;66;03m#Conditions using if, elif, else\u001b[39;00m\n\u001b[1;32m      2\u001b[0m \n\u001b[1;32m      3\u001b[0m \u001b[38;5;66;03m# Speeding\u001b[39;00m\n\u001b[0;32m   (...)\u001b[0m\n\u001b[1;32m     10\u001b[0m \n\u001b[1;32m     11\u001b[0m \u001b[38;5;66;03m# Danger - When it is above 60\u001b[39;00m\n\u001b[0;32m---> 14\u001b[0m Speed \u001b[38;5;241m=\u001b[39m \u001b[38;5;28;43mint\u001b[39;49m\u001b[43m(\u001b[49m\u001b[38;5;28;43minput\u001b[39;49m\u001b[43m(\u001b[49m\u001b[38;5;124;43m\"\u001b[39;49m\u001b[38;5;124;43mEnter the value of Speed: \u001b[39;49m\u001b[38;5;124;43m\"\u001b[39;49m\u001b[43m)\u001b[49m\u001b[43m)\u001b[49m\n\u001b[1;32m     18\u001b[0m \u001b[38;5;28;01mif\u001b[39;00m Speed \u001b[38;5;241m<\u001b[39m \u001b[38;5;241m20\u001b[39m:\n\u001b[1;32m     20\u001b[0m     \u001b[38;5;28mprint\u001b[39m(\u001b[38;5;124m\"\u001b[39m\u001b[38;5;124mSlow Speed\u001b[39m\u001b[38;5;124m\"\u001b[39m)\n",
            "\u001b[0;31mTypeError\u001b[0m: int() argument must be a string, a bytes-like object or a real number, not 'Future'"
          ]
        }
      ],
      "source": [
        "#Conditions using if, elif, else\n",
        "\n",
        "# Speeding\n",
        "\n",
        "# Slow - when it is less than 20\n",
        "\n",
        "# Correct - when it is b/w 20 to 40\n",
        "\n",
        "# Caution - when it is b/w 40 to 60\n",
        "\n",
        "# Danger - When it is above 60\n",
        "\n",
        "'''\n",
        "Speed = int(input(\"Enter the value of Speed: \"))\n",
        "if Speed < 20:\n",
        "    print(\"Slow Speed\")\n",
        "elif Speed>=20 and Speed<40:\n",
        "    print(\"Correct Speed\")\n",
        "elif Speed>=40 and Speed<60:\n",
        "    print(\"Be cautious\")\n",
        "else:\n",
        "    print(\"Danger\")\n",
        "'''"
      ]
    },
    {
      "cell_type": "code",
      "execution_count": null,
      "metadata": {},
      "outputs": [],
      "source": [
        "[2:27 PM] Maho Jase Institute of Technology\n",
        "# when we are in need of extra features/functionalities - import\n",
        "import random\n",
        "\n",
        "c = random.random() #generates random number b/w 0 & 1\n",
        "\n",
        "print(c)\n",
        "\n",
        "c = random.randint(5, 15) #generates random Int number b/w 5 & 15\n",
        "\n",
        "print(c)\n",
        "\n",
        "c = random.choice([1, 2, 3, 4, 5]) #generates random number b/w the choices\n",
        "\n",
        "print(c)\n",
        "\n"
      ]
    },
    {
      "cell_type": "code",
      "execution_count": null,
      "metadata": {},
      "outputs": [],
      "source": [
        "def func1(val):\n",
        "    print(\"The passed value is\" + str(val))\n",
        "    \n",
        "func1(2)"
      ]
    },
    {
      "cell_type": "code",
      "execution_count": null,
      "metadata": {},
      "outputs": [],
      "source": [
        "def test(var):\n",
        "    print(\"Inside test()\")\n",
        "    print(\"Argument is \",var)\n",
        "    print(\"Example of function with arguments\")\n",
        "x=\"hello\"\n",
        "test(x*3) #string will be repeated\n",
        "y=20\n",
        "test(y*3) #number will be multiplied\n",
        "print(\"Over!!\")"
      ]
    },
    {
      "cell_type": "code",
      "execution_count": null,
      "metadata": {},
      "outputs": [],
      "source": [
        "\n",
        "#while:\n",
        "\n",
        "a=1\n",
        "\n",
        "while a < 5:    print(a)    a+=1\n",
        "print(\"The End!\")\n",
        "\n",
        "# for: #Definite values\n",
        "\n",
        "a = (1, 2, 3, 4, 5)\n",
        "\n",
        "for i in a:    print(i)    \n",
        "print(\"The End!\")\n",
        "\n"
      ]
    },
    {
      "cell_type": "code",
      "execution_count": null,
      "metadata": {},
      "outputs": [],
      "source": [
        "# for: #Definite values\n",
        "\n",
        "\n",
        "\n",
        "a = range(1, 10, 2) #(Start Number (default is 0), End Number, Steps) - 0, (1, 2, 3, 4, 5, 6, 7, 8, 9) - 1, 3, 5, 7, 9\n",
        "\n",
        "\n",
        "\n",
        "for i in a:\n",
        "    print(i)\n",
        "    \n",
        "print(\"The End!\")"
      ]
    },
    {
      "cell_type": "code",
      "execution_count": null,
      "metadata": {},
      "outputs": [],
      "source": [
        "#Infinity loop - while\n",
        "\n",
        "\n",
        "ans = 0\n",
        "i = 0\n",
        "while i<5:\n",
        "\n",
        "    a = int(input(\"Enter the value: \"))\n",
        "    if a%2==0:\n",
        "        ans+=a\n",
        "    if a % 10 == 0:\n",
        "\n",
        "        print(\"x is divisible by 10\")\n",
        "\n",
        "    else:\n",
        "\n",
        "        print(\"x is not divisible by 10\")\n",
        "\n",
        "        break"
      ]
    },
    {
      "cell_type": "code",
      "execution_count": null,
      "metadata": {},
      "outputs": [],
      "source": [
        "ans = 0\n",
        "i = 0\n",
        "while i<5:\n",
        "    a = int(input(\"Enter the value: \"))\n",
        "    if a%2==0:\n",
        "        ans+=a\n",
        "    i++"
      ]
    },
    {
      "cell_type": "code",
      "execution_count": null,
      "metadata": {},
      "outputs": [],
      "source": [
        "#Infinity loop - while\n",
        "#Get 5 number\n",
        "# add only even numbers out of the input\n",
        "\n",
        "temp = 0\n",
        "counter = 0\n",
        "while True:\n",
        "    a = int(input(\"Enter the value: \"))\n",
        "    if a % 2 == 0:\n",
        "        temp += a\n",
        "        counter +=1\n",
        "        if counter == 5:\n",
        "            break\n",
        "    else:\n",
        "        continue\n",
        "        print(\"x is not divisible by 10\")\n",
        "        break\n",
        "print(\"sum of 5 even numbers is \"+str(temp))\n",
        "\n",
        "#Infinity loop - while\n",
        "#Get 5 number\n",
        "# add only even numbers out of the input\n",
        "\n",
        "even = 0\n",
        "odd = 0\n",
        "counter = 0\n",
        "while True:\n",
        "    a = int(input(\"Enter the value: \"))\n",
        "    if a % 2 == 0:\n",
        "        even += a\n",
        "        counter +=1\n",
        "        if counter == 5:\n",
        "            break\n",
        "    else:\n",
        "        odd += a\n",
        "        counter +=1\n",
        "        if counter == 5:\n",
        "            break\n",
        "print(\"sum of even numbers is \"+str(even))\n",
        "print(\"sum of odd numbers is \"+str(odd))\n",
        "\n"
      ]
    },
    {
      "cell_type": "code",
      "execution_count": null,
      "metadata": {},
      "outputs": [],
      "source": [
        "#print\n",
        "date = 10\n",
        "mon = \"sep\"\n",
        "year = 2022\n",
        "#10-sep-2022\n",
        "print(str(date)+\"-\"+mon+\"-\"+str(year))\n",
        "\n",
        "print(str(date), mon, str(year),sep='-')\n",
        "\n",
        "#print\n",
        "fname = \"HiranRamBabu\"\n",
        "lname = \"Ontivillu\"\n",
        "domain = \"mjit.in\"\n",
        "\n",
        "print(fname, lname, sep='.', end='@') #default end is next line in print()\n",
        "print(domain)\n"
      ]
    },
    {
      "cell_type": "markdown",
      "metadata": {},
      "source": [
        "#slicing - indexing\n",
        "ID = \"INVhrb\"\n",
        "ID_len = len(ID)\n",
        "print(ID[1]) #index char starts with 0\n",
        "print(ID[-1]) #negative indexing - from last char\n",
        "print(ID[3:ID_len])\n",
        "\n",
        "#slicing - indexing\n",
        "ID = \"INVhrb\"\n",
        "ID_len = len(ID)\n",
        "print(ID[1]) #index char starts with 0\n",
        "print(ID[-1]) #negative indexing - from last char\n",
        "print(ID[3:ID_len]) #start:end\n",
        "print(ID[3:ID_len:2]) #start:end:step\n"
      ]
    },
    {
      "cell_type": "code",
      "execution_count": null,
      "metadata": {},
      "outputs": [],
      "source": []
    }
  ],
  "metadata": {
    "kernelspec": {
      "display_name": "Python (Pyodide)",
      "language": "python",
      "name": "python"
    },
    "language_info": {
      "codemirror_mode": {
        "name": "python",
        "version": 3
      },
      "file_extension": ".py",
      "mimetype": "text/x-python",
      "name": "python",
      "nbconvert_exporter": "python",
      "pygments_lexer": "ipython3",
      "version": "3.8"
    }
  },
  "nbformat": 4,
  "nbformat_minor": 4
}
